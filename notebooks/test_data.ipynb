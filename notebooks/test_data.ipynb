{
 "cells": [
  {
   "cell_type": "code",
   "execution_count": 13,
   "metadata": {},
   "outputs": [],
   "source": [
    "import pandas as pd\n",
    "import numpy as np\n",
    "import sys\n",
    "\n",
    "from sklearn.datasets import fetch_california_housing\n",
    "\n",
    "from evidently import ColumnMapping\n",
    "\n",
    "from evidently.report import Report\n",
    "from evidently.metrics.base_metric import generate_column_metrics\n",
    "from evidently.metric_preset import DataDriftPreset, TargetDriftPreset\n",
    "from evidently.metrics import *\n",
    "\n",
    "from evidently.test_suite import TestSuite\n",
    "from evidently.tests.base_test import generate_column_tests\n",
    "from evidently.test_preset import DataStabilityTestPreset, NoTargetPerformanceTestPreset\n",
    "from evidently.tests import *"
   ]
  },
  {
   "cell_type": "code",
   "execution_count": 14,
   "metadata": {},
   "outputs": [
    {
     "name": "stderr",
     "output_type": "stream",
     "text": [
      "c:\\Users\\trdin\\anaconda3\\envs\\tensor2\\lib\\site-packages\\numpy\\lib\\function_base.py:2897: RuntimeWarning:\n",
      "\n",
      "invalid value encountered in divide\n",
      "\n",
      "c:\\Users\\trdin\\anaconda3\\envs\\tensor2\\lib\\site-packages\\numpy\\lib\\function_base.py:2898: RuntimeWarning:\n",
      "\n",
      "invalid value encountered in divide\n",
      "\n",
      "c:\\Users\\trdin\\anaconda3\\envs\\tensor2\\lib\\site-packages\\numpy\\lib\\function_base.py:2897: RuntimeWarning:\n",
      "\n",
      "invalid value encountered in divide\n",
      "\n",
      "c:\\Users\\trdin\\anaconda3\\envs\\tensor2\\lib\\site-packages\\numpy\\lib\\function_base.py:2898: RuntimeWarning:\n",
      "\n",
      "invalid value encountered in divide\n",
      "\n",
      "c:\\Users\\trdin\\anaconda3\\envs\\tensor2\\lib\\site-packages\\scipy\\stats\\_stats_py.py:8022: RuntimeWarning:\n",
      "\n",
      "divide by zero encountered in divide\n",
      "\n",
      "c:\\Users\\trdin\\anaconda3\\envs\\tensor2\\lib\\site-packages\\numpy\\lib\\function_base.py:2897: RuntimeWarning:\n",
      "\n",
      "invalid value encountered in divide\n",
      "\n",
      "c:\\Users\\trdin\\anaconda3\\envs\\tensor2\\lib\\site-packages\\numpy\\lib\\function_base.py:2898: RuntimeWarning:\n",
      "\n",
      "invalid value encountered in divide\n",
      "\n",
      "c:\\Users\\trdin\\anaconda3\\envs\\tensor2\\lib\\site-packages\\numpy\\lib\\function_base.py:2897: RuntimeWarning:\n",
      "\n",
      "invalid value encountered in divide\n",
      "\n",
      "c:\\Users\\trdin\\anaconda3\\envs\\tensor2\\lib\\site-packages\\numpy\\lib\\function_base.py:2898: RuntimeWarning:\n",
      "\n",
      "invalid value encountered in divide\n",
      "\n",
      "c:\\Users\\trdin\\anaconda3\\envs\\tensor2\\lib\\site-packages\\scipy\\stats\\_stats_py.py:8022: RuntimeWarning:\n",
      "\n",
      "divide by zero encountered in divide\n",
      "\n"
     ]
    }
   ],
   "source": [
    "reference = pd.read_csv(\"../reference_data.csv\")\n",
    "#reference.rename(columns = {'available_bike_stands':'target'}, inplace = True)\n",
    "#reference['prediction'] = reference['target'].values + np.random.normal(0, 5, reference.shape[0])\n",
    "\n",
    "current =  pd.read_csv(\"../current_data.csv\")\n",
    "#current.rename(columns = {'available_bike_stands':'target'}, inplace = True)\n",
    "#current['prediction'] = current['target'].values + np.random.normal(0, 5, current.shape[0])\n",
    "\n",
    "\n",
    "report = Report(metrics=[\n",
    "    DataDriftPreset(), \n",
    "])\n",
    "\n",
    "report.run(reference_data=reference, current_data=current)\n",
    "report.save('../reports/testing_data/data_drift.json')\n"
   ]
  },
  {
   "cell_type": "code",
   "execution_count": 15,
   "metadata": {},
   "outputs": [
    {
     "name": "stdout",
     "output_type": "stream",
     "text": [
      "{'tests': [{'name': 'The Number of Columns With Missing Values', 'description': 'The number of columns with missing values is 0. The test threshold is lte=0.', 'status': 'SUCCESS', 'group': 'data_integrity', 'parameters': {'condition': {'lte': 0}, 'value': 0.0}}, {'name': 'The Number Of Rows With Missing Values', 'description': 'The number of rows with missing values is 0. The test threshold is lte=0 ± 1e-12.', 'status': 'SUCCESS', 'group': 'data_integrity', 'parameters': {'condition': {'lte': {'value': 0.0, 'relative': 0.1, 'absolute': 1e-12}}, 'value': 0.0}}, {'name': 'Number of Constant Columns', 'description': 'The number of constant columns is 1. The test threshold is lte=1.', 'status': 'SUCCESS', 'group': 'data_integrity', 'parameters': {'condition': {'lte': 1}, 'value': 1.0}}, {'name': 'Number of Duplicate Rows', 'description': 'The number of duplicate rows is 0. The test threshold is eq=0 ± 1e-12.', 'status': 'SUCCESS', 'group': 'data_integrity', 'parameters': {'condition': {'eq': {'value': 0.0, 'relative': 0.1, 'absolute': 1e-12}}, 'value': 0.0}}, {'name': 'Number of Duplicate Columns', 'description': 'The number of duplicate columns is 0. The test threshold is lte=0.', 'status': 'SUCCESS', 'group': 'data_integrity', 'parameters': {'condition': {'lte': 0}, 'value': 0.0}}, {'name': 'Column Types', 'description': 'The number of columns with a type mismatch is 0 out of 10.', 'status': 'SUCCESS', 'group': 'data_integrity', 'parameters': {'columns': [{'actual_type': 'object_', 'column_name': 'date', 'expected_type': 'object_'}, {'actual_type': 'int64', 'column_name': 'bike_stands', 'expected_type': 'int64'}, {'actual_type': 'int64', 'column_name': 'available_bike_stands', 'expected_type': 'int64'}, {'actual_type': 'float64', 'column_name': 'temperature', 'expected_type': 'float64'}, {'actual_type': 'float64', 'column_name': 'relative_humidity', 'expected_type': 'float64'}, {'actual_type': 'float64', 'column_name': 'dew_point', 'expected_type': 'float64'}, {'actual_type': 'float64', 'column_name': 'apparent_temperature', 'expected_type': 'float64'}, {'actual_type': 'float64', 'column_name': 'precipitation_probability', 'expected_type': 'float64'}, {'actual_type': 'float64', 'column_name': 'rain', 'expected_type': 'float64'}, {'actual_type': 'float64', 'column_name': 'surface_pressure', 'expected_type': 'float64'}]}}, {'name': 'Number of Drifted Features', 'description': 'The drift is detected for 1 out of 10 features. The test threshold is lt=3.', 'status': 'SUCCESS', 'group': 'data_drift', 'parameters': {'condition': {'lt': 3}, 'features': {'apparent_temperature': {'stattest': 'K-S p_value', 'score': 1.0, 'threshold': 0.05, 'detected': False}, 'available_bike_stands': {'stattest': 'K-S p_value', 'score': 1.0, 'threshold': 0.05, 'detected': False}, 'bike_stands': {'stattest': 'Z-test p_value', 'score': 1.0, 'threshold': 0.05, 'detected': False}, 'dew_point': {'stattest': 'K-S p_value', 'score': 1.0, 'threshold': 0.05, 'detected': False}, 'precipitation_probability': {'stattest': 'K-S p_value', 'score': 1.0, 'threshold': 0.05, 'detected': False}, 'rain': {'stattest': 'chi-square p_value', 'score': 1.0, 'threshold': 0.05, 'detected': False}, 'relative_humidity': {'stattest': 'K-S p_value', 'score': 1.0, 'threshold': 0.05, 'detected': False}, 'surface_pressure': {'stattest': 'K-S p_value', 'score': 1.0, 'threshold': 0.05, 'detected': False}, 'temperature': {'stattest': 'K-S p_value', 'score': 1.0, 'threshold': 0.05, 'detected': False}, 'date': {'stattest': 'chi-square p_value', 'score': 0.0, 'threshold': 0.05, 'detected': True}}}}], 'summary': {'all_passed': True, 'total_tests': 7, 'success_tests': 7, 'failed_tests': 0, 'by_status': {'SUCCESS': 7}}}\n",
      "All tests passed!\n"
     ]
    },
    {
     "name": "stderr",
     "output_type": "stream",
     "text": [
      "c:\\Users\\trdin\\anaconda3\\envs\\tensor2\\lib\\site-packages\\numpy\\lib\\function_base.py:2897: RuntimeWarning:\n",
      "\n",
      "invalid value encountered in divide\n",
      "\n",
      "c:\\Users\\trdin\\anaconda3\\envs\\tensor2\\lib\\site-packages\\numpy\\lib\\function_base.py:2898: RuntimeWarning:\n",
      "\n",
      "invalid value encountered in divide\n",
      "\n",
      "c:\\Users\\trdin\\anaconda3\\envs\\tensor2\\lib\\site-packages\\numpy\\lib\\function_base.py:2897: RuntimeWarning:\n",
      "\n",
      "invalid value encountered in divide\n",
      "\n",
      "c:\\Users\\trdin\\anaconda3\\envs\\tensor2\\lib\\site-packages\\numpy\\lib\\function_base.py:2898: RuntimeWarning:\n",
      "\n",
      "invalid value encountered in divide\n",
      "\n",
      "c:\\Users\\trdin\\anaconda3\\envs\\tensor2\\lib\\site-packages\\scipy\\stats\\_stats_py.py:8022: RuntimeWarning:\n",
      "\n",
      "divide by zero encountered in divide\n",
      "\n"
     ]
    }
   ],
   "source": [
    "tests = TestSuite(tests=[\n",
    "    TestNumberOfColumnsWithMissingValues(),\n",
    "    TestNumberOfRowsWithMissingValues(),\n",
    "    TestNumberOfConstantColumns(),\n",
    "    TestNumberOfDuplicatedRows(),\n",
    "    TestNumberOfDuplicatedColumns(),\n",
    "    TestColumnsType(),\n",
    "    TestNumberOfDriftedColumns(),\n",
    "])\n",
    "\n",
    "tests.run(reference_data=reference, current_data=current)\n",
    "\n",
    "test_results = tests.as_dict()\n",
    "\n",
    "# Check if any test failed\n",
    "if test_results['summary']['failed_tests'] > 0:\n",
    "    print(\"Some tests failed!\")\n",
    "    sys.exit(1)\n",
    "else:\n",
    "    print(\"All tests passed!\")"
   ]
  }
 ],
 "metadata": {
  "kernelspec": {
   "display_name": "tensor2",
   "language": "python",
   "name": "python3"
  },
  "language_info": {
   "codemirror_mode": {
    "name": "ipython",
    "version": 3
   },
   "file_extension": ".py",
   "mimetype": "text/x-python",
   "name": "python",
   "nbconvert_exporter": "python",
   "pygments_lexer": "ipython3",
   "version": "3.10.13"
  }
 },
 "nbformat": 4,
 "nbformat_minor": 2
}

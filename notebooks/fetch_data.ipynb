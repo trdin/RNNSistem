{
 "cells": [
  {
   "cell_type": "code",
   "execution_count": 2,
   "metadata": {},
   "outputs": [
    {
     "name": "stdout",
     "output_type": "stream",
     "text": [
      "Files moved successfully!\n"
     ]
    }
   ],
   "source": [
    "import os\n",
    "import shutil\n",
    "\n",
    "# Define the directory containing the CSV files\n",
    "data_directory = \"../data/processed/\"\n",
    "\n",
    "# Loop through each station number from 1 to 29\n",
    "for station_number in range(1, 30):\n",
    "    # Original CSV file path\n",
    "    original_file_path = os.path.join(data_directory, f\"station_{station_number}.csv\")\n",
    "    \n",
    "    # Define the directory name for the station\n",
    "    station_name = f\"{station_number}\"\n",
    "    station_directory = os.path.join(data_directory, station_name)\n",
    "    \n",
    "    # Create the directory if it doesn't exist\n",
    "    os.makedirs(station_directory, exist_ok=True)\n",
    "    \n",
    "    # Move the CSV file to the station directory\n",
    "    new_file_path = os.path.join(station_directory, f\"station_{station_number}.csv\")\n",
    "    shutil.move(original_file_path, new_file_path)\n",
    "\n",
    "print(\"Files moved successfully!\")"
   ]
  }
 ],
 "metadata": {
  "kernelspec": {
   "display_name": "tensor2",
   "language": "python",
   "name": "python3"
  },
  "language_info": {
   "codemirror_mode": {
    "name": "ipython",
    "version": 3
   },
   "file_extension": ".py",
   "mimetype": "text/x-python",
   "name": "python",
   "nbconvert_exporter": "python",
   "pygments_lexer": "ipython3",
   "version": "3.10.13"
  }
 },
 "nbformat": 4,
 "nbformat_minor": 2
}

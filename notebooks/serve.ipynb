{
 "cells": [
  {
   "cell_type": "code",
   "execution_count": 2,
   "metadata": {},
   "outputs": [],
   "source": [
    "from flask import Flask, request, jsonify\n",
    "import joblib\n",
    "import numpy as np\n",
    "import pandas as pd\n",
    "import tensorflow as tf\n",
    "import requests"
   ]
  },
  {
   "cell_type": "code",
   "execution_count": 3,
   "metadata": {},
   "outputs": [],
   "source": [
    "model = tf.keras.models.load_model('../models/lstm_model_final.h5')\n",
    "stands_scaler = joblib.load('../models/scalers/stands_scaler.joblib')\n",
    "other_scaler = joblib.load('../models/scalers/other_scaler.joblib')"
   ]
  },
  {
   "cell_type": "code",
   "execution_count": 4,
   "metadata": {},
   "outputs": [],
   "source": [
    "def predict(data):\n",
    "    try:\n",
    "        required_features = ['date','available_bike_stands', 'temperature', 'relative_humidity',\n",
    "             'apparent_temperature', 'dew_point', 'precipitation_probability',\n",
    "               'surface_pressure']\n",
    "        for obj in data:\n",
    "            for feature in required_features:\n",
    "                if feature not in obj:\n",
    "                    return {'error': f'Missing feature: {feature}'}, 400\n",
    "\n",
    "\n",
    "        data = pd.DataFrame(data)\n",
    "        data['date'] = pd.to_datetime(data['date'])\n",
    "        data = data.sort_values(by=['date'])\n",
    "\n",
    "\n",
    "        left_skew_columns = [\"surface_pressure\"]\n",
    "        for col in left_skew_columns:\n",
    "            data[col] = np.square(data[col])\n",
    "\n",
    "        right_skew_columns = [\"precipitation_probability\"]\n",
    "        for col in right_skew_columns:\n",
    "            data[col] = np.log(data[col]+1 )\n",
    "\n",
    "\n",
    "        selected_features = ['temperature',\n",
    "            'apparent_temperature',\n",
    "            'surface_pressure',\n",
    "            'dew_point',\n",
    "            'precipitation_probability',\n",
    "            'relative_humidity']\n",
    "\n",
    "        learn_features = data[['available_bike_stands'] + list(selected_features) ]\n",
    "        learn_features = learn_features.values\n",
    "\n",
    "        \n",
    "\n",
    "        stands = np.array(learn_features[:,0])\n",
    "    \n",
    "        stands_normalized = stands_scaler.transform(stands.reshape(-1, 1))\n",
    "\n",
    "        other = np.array(learn_features[:,1:])\n",
    "        other_normalized = other_scaler.transform(other)\n",
    "\n",
    "\n",
    "        normalized_data = np.column_stack([stands_normalized, other_normalized])\n",
    "\n",
    "        X_predict = normalized_data   \t\n",
    "       \n",
    "        X_predict = X_predict.reshape(1, X_predict.shape[1], X_predict.shape[0])\n",
    "       \n",
    "\n",
    "        prediction = model.predict(X_predict)\n",
    "        prediction =  stands_scaler.inverse_transform(prediction)\n",
    "        \n",
    "\n",
    "        return {'prediction': prediction.tolist()}\n",
    "    except Exception as e:\n",
    "        return {'error': str(e)}, 400"
   ]
  },
  {
   "cell_type": "code",
   "execution_count": 5,
   "metadata": {},
   "outputs": [
    {
     "name": "stdout",
     "output_type": "stream",
     "text": [
      " * Serving Flask app '__main__'\n",
      " * Debug mode: off\n"
     ]
    },
    {
     "name": "stderr",
     "output_type": "stream",
     "text": [
      "WARNING: This is a development server. Do not use it in a production deployment. Use a production WSGI server instead.\n",
      " * Running on all addresses (0.0.0.0)\n",
      " * Running on http://127.0.0.1:123\n",
      " * Running on http://192.168.0.29:123\n",
      "Press CTRL+C to quit\n"
     ]
    },
    {
     "name": "stdout",
     "output_type": "stream",
     "text": [
      "1/1 [==============================] - 1s 1s/step\n"
     ]
    },
    {
     "name": "stderr",
     "output_type": "stream",
     "text": [
      "127.0.0.1 - - [11/Mar/2024 12:06:17] \"POST /predict HTTP/1.1\" 200 -\n"
     ]
    },
    {
     "name": "stdout",
     "output_type": "stream",
     "text": [
      "1/1 [==============================] - 0s 39ms/step\n"
     ]
    },
    {
     "name": "stderr",
     "output_type": "stream",
     "text": [
      "127.0.0.1 - - [11/Mar/2024 12:06:29] \"POST /predict HTTP/1.1\" 200 -\n"
     ]
    },
    {
     "name": "stdout",
     "output_type": "stream",
     "text": [
      "1/1 [==============================] - 0s 52ms/step\n"
     ]
    },
    {
     "name": "stderr",
     "output_type": "stream",
     "text": [
      "127.0.0.1 - - [11/Mar/2024 12:06:48] \"POST /predict HTTP/1.1\" 200 -\n"
     ]
    }
   ],
   "source": [
    "app = Flask(__name__)\n",
    "\n",
    "\n",
    "@app.route('/predict', methods=['POST'])\n",
    "def predict_air():\n",
    "    data = request.get_json()\n",
    "    result = predict(data)\n",
    "    return jsonify(result)\n",
    "\n",
    "\n",
    "if __name__ == '__main__':\n",
    "    app.run(host='0.0.0.0', port=123)"
   ]
  }
 ],
 "metadata": {
  "kernelspec": {
   "display_name": "tensor2",
   "language": "python",
   "name": "python3"
  },
  "language_info": {
   "codemirror_mode": {
    "name": "ipython",
    "version": 3
   },
   "file_extension": ".py",
   "mimetype": "text/x-python",
   "name": "python",
   "nbconvert_exporter": "python",
   "pygments_lexer": "ipython3",
   "version": "3.10.13"
  }
 },
 "nbformat": 4,
 "nbformat_minor": 2
}
